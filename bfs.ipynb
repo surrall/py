{
 "cells": [
  {
   "cell_type": "markdown",
   "metadata": {},
   "source": [
    "### Traversal Problem"
   ]
  },
  {
   "cell_type": "code",
   "execution_count": 1,
   "metadata": {},
   "outputs": [
    {
     "name": "stdout",
     "output_type": "stream",
     "text": [
      "Enter number of rows , columns & road blocks: \n",
      "6 7 6\n",
      "Input Matrix :- \n",
      " [[ 1  0  0  0  0 -1  0]\n",
      " [ 0  0  0  0  0  0  0]\n",
      " [ 0  0  0  0  0  0  0]\n",
      " [-1  0  0  2  0 -1  0]\n",
      " [ 0  0  0  0 -1  0  0]\n",
      " [ 0  0 -1  0  0  0 -1]]\n",
      "\n",
      "Yay - Path Exist\n"
     ]
    }
   ],
   "source": [
    "#Take input from User\n",
    "rows, cols,rb_cnt = list(map(int, input('Enter number of rows , columns & road blocks: \\n').split())) \n",
    "\n",
    "#initialise your matrix\n",
    "mat = np.zeros((rows,cols)).astype(int)\n",
    "\n",
    "#Random Source location selection\n",
    "src_row_loc=np.random.randint(rows)\n",
    "src_col_loc=np.random.randint(cols)\n",
    "\n",
    "#Random Destination location selection\n",
    "while(True):\n",
    "    dest_row_loc=np.random.randint(rows)\n",
    "    dest_col_loc=np.random.randint(cols)\n",
    "    if dest_row_loc!=src_row_loc and dest_col_loc!=src_col_loc:\n",
    "        break\n",
    "\n",
    "# Location of blockers\n",
    "row_loc=np.random.randint(rows,size=rows*cols*3)\n",
    "col_loc=np.random.randint(cols,size=rows*cols*3)\n",
    "        \n",
    "# Set source & destination in the matrix\n",
    "mat[src_row_loc][src_col_loc]=1\n",
    "mat[dest_row_loc][dest_col_loc]=2\n",
    "\n",
    "# Matrix creation logic\n",
    "count=0\n",
    "for i in range(rows*cols*3):\n",
    "    if mat[row_loc[i]][col_loc[i]]==0:\n",
    "        mat[row_loc[i]][col_loc[i]]=-1\n",
    "        count+=1\n",
    "        if count==rb_cnt:\n",
    "            break \n",
    "\n",
    "# traversing row & col vectors\n",
    "row_vector = [-1,1,0,0]\n",
    "col_vector = [0,0,1,-1]\n",
    "\n",
    "# Queue to Enqueue & Dequeue during Breadth First Search \n",
    "queue=list()\n",
    "\n",
    "# Location visited inorder to avoid infinite loop\n",
    "visited = np.zeros((rows,cols)).astype(int)\n",
    "visited[src_row_loc][src_col_loc]=1\n",
    "\n",
    "queue.append([src_row_loc,src_col_loc])\n",
    "\n",
    "print('Input Matrix :- \\n',mat)\n",
    "\n",
    "while(len(queue)>0):\n",
    "    # Pop loc coordinates to check if we reached the destination\n",
    "    row,col = queue.pop()\n",
    "    if mat[row][col]==2:\n",
    "        print('\\nYay - Path Exist')\n",
    "        break\n",
    "    for i in range(4):\n",
    "        # New Coordinates for traversal\n",
    "        r=row+row_vector[i] \n",
    "        c=col+col_vector[i]\n",
    "        \n",
    "        # Invalid Traversals\n",
    "        if r<0 or c <0 or r>=rows or c >=cols:\n",
    "            continue\n",
    "        if mat[r][c]==-1 or visited[r][c]==1:\n",
    "            continue\n",
    "    \n",
    "        #Push location in queue\n",
    "        queue.append([r,c])\n",
    "        visited[r][c]=1\n",
    "else:\n",
    "    print('\\nPath doesn\\'t exist')"
   ]
  },
  {
   "cell_type": "markdown",
   "metadata": {},
   "source": [
    "# End"
   ]
  }
 ],
 "metadata": {
  "kernelspec": {
   "display_name": "Python 3",
   "language": "python",
   "name": "python3"
  },
  "language_info": {
   "codemirror_mode": {
    "name": "ipython",
    "version": 3
   },
   "file_extension": ".py",
   "mimetype": "text/x-python",
   "name": "python",
   "nbconvert_exporter": "python",
   "pygments_lexer": "ipython3",
   "version": "3.8.5"
  },
  "varInspector": {
   "cols": {
    "lenName": 16,
    "lenType": 16,
    "lenVar": 40
   },
   "kernels_config": {
    "python": {
     "delete_cmd_postfix": "",
     "delete_cmd_prefix": "del ",
     "library": "var_list.py",
     "varRefreshCmd": "print(var_dic_list())"
    },
    "r": {
     "delete_cmd_postfix": ") ",
     "delete_cmd_prefix": "rm(",
     "library": "var_list.r",
     "varRefreshCmd": "cat(var_dic_list()) "
    }
   },
   "types_to_exclude": [
    "module",
    "function",
    "builtin_function_or_method",
    "instance",
    "_Feature"
   ],
   "window_display": false
  }
 },
 "nbformat": 4,
 "nbformat_minor": 4
}
